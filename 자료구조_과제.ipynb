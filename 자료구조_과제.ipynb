{
  "nbformat": 4,
  "nbformat_minor": 0,
  "metadata": {
    "colab": {
      "provenance": [],
      "authorship_tag": "ABX9TyNSpAWfcj+mZHhWrr2iBSyJ",
      "include_colab_link": true
    },
    "kernelspec": {
      "name": "python3",
      "display_name": "Python 3"
    },
    "language_info": {
      "name": "python"
    }
  },
  "cells": [
    {
      "cell_type": "markdown",
      "metadata": {
        "id": "view-in-github",
        "colab_type": "text"
      },
      "source": [
        "<a href=\"https://colab.research.google.com/github/hyunwoo617/colab-data/blob/main/%EC%9E%90%EB%A3%8C%EA%B5%AC%EC%A1%B0_%EA%B3%BC%EC%A0%9C.ipynb\" target=\"_parent\"><img src=\"https://colab.research.google.com/assets/colab-badge.svg\" alt=\"Open In Colab\"/></a>"
      ]
    },
    {
      "cell_type": "code",
      "source": [
        "# 1번: 정수 하나를 입력받아 그 수가 짝수인지, 홀수인지를 판별하는 프로그램을 작성하시오.\n",
        "number = int(input(\"정수를 입력하세요: \"))\n",
        "\n",
        "if number%2 == 1:\n",
        "    print(number, \"홀수\")\n",
        "else:\n",
        "    print(number, \"짝수\")"
      ],
      "metadata": {
        "colab": {
          "base_uri": "https://localhost:8080/"
        },
        "id": "xSxpTmRzvNvj",
        "outputId": "bb2996d0-6c7d-4772-b82b-378f4adec3d0"
      },
      "execution_count": null,
      "outputs": [
        {
          "output_type": "stream",
          "name": "stdout",
          "text": [
            "정수를 입력하세요: 123\n",
            "123 홀수\n"
          ]
        }
      ]
    },
    {
      "cell_type": "code",
      "source": [
        "# 2번: 두 정수 a, b를 입력받아 더 큰 수를 구하여 출력하는 프로그램을 작성하시오.\n",
        "a = int(input(\"첫 번째 정수를 입력하세요 : \"))\n",
        "b = int(input(\"두 번째 정수를 입력하세요 : \"))\n",
        "\n",
        "print(\"더 큰 정수는 : \", max(a, b))"
      ],
      "metadata": {
        "id": "7u0Gjz--ySMr"
      },
      "execution_count": null,
      "outputs": []
    },
    {
      "cell_type": "code",
      "source": [
        "# 3번: 임의의 두 정수를 입력받아 큰수에서 작은 수를 뺀 결과와 나눈 결과를 출력하는 프로그램을 작성하시오.\n",
        "a = int(input(\"첫 번째 정수를 입력하세요 : \"))\n",
        "b = int(input(\"두 번째 정수를 입력하세요 : \"))\n",
        "\n",
        "print(\"큰 수에서 작은 수를 뺀 결과 : \", (max(a,b)-min(a,b)))\n",
        "print(\"큰 수에서 작은 수를 나눈 결과 : \", (max(a,b) / min(a,b)))"
      ],
      "metadata": {
        "colab": {
          "base_uri": "https://localhost:8080/"
        },
        "id": "fSiRaDDIz2Po",
        "outputId": "ae6a7c5d-e849-41e0-95f7-e6bebf6cfa98"
      },
      "execution_count": null,
      "outputs": [
        {
          "output_type": "stream",
          "name": "stdout",
          "text": [
            "첫 번째 정수를 입력해주세요 : 123\n",
            "두 번째 정수를 입력해주세요 : 105\n",
            "큰 수에서 작은 수를 뺀 결과 :  18\n",
            "큰 수에서 작은 수를 나눈 결과 :  1.1714285714285715\n"
          ]
        }
      ]
    },
    {
      "cell_type": "code",
      "source": [
        "# 4번: 임의의 정수 a를 입력받아 1~10 범위의 수이면 “OK\"를, 그렇지 않으면 ”NOK\"를 출력하시오.\n",
        "a = int(input(\"정수를 입력하세요: \"))\n",
        "\n",
        "if 1 <= a <= 10:\n",
        "    print(\"OK\")\n",
        "else:\n",
        "    print(\"NOK\")"
      ],
      "metadata": {
        "colab": {
          "base_uri": "https://localhost:8080/"
        },
        "id": "6dcYT_QCMVky",
        "outputId": "7040338a-c9e5-4683-93bc-4ea3d636d111"
      },
      "execution_count": null,
      "outputs": [
        {
          "output_type": "stream",
          "name": "stdout",
          "text": [
            "정수를 입력하세요: 4\n",
            "OK\n"
          ]
        }
      ]
    },
    {
      "cell_type": "code",
      "source": [
        "# 5번: 임의의 정수 a를 입력받아 1이하이거나 10 이상의 수이면 “OK\"를, 그렇지 않으면 ”NOK\"를 출력.\n",
        "a = int(input(\"정수를 입력하세요 : \"))\n",
        "\n",
        "if a <= 1 or a >= 10:\n",
        "    print(\"ok\")\n",
        "\n",
        "else:\n",
        "    print(\"nok\")"
      ],
      "metadata": {
        "colab": {
          "base_uri": "https://localhost:8080/"
        },
        "id": "gglZdgDgYTP9",
        "outputId": "e9d523c1-24e2-42e4-9546-3d2a9512cff2"
      },
      "execution_count": null,
      "outputs": [
        {
          "output_type": "stream",
          "name": "stdout",
          "text": [
            "정수를 입력하세요 : 7\n",
            "nok\n"
          ]
        }
      ]
    },
    {
      "cell_type": "code",
      "source": [
        "# 6번: 입력된 실수가 [1~10) 사이이면 입력값의 2배 값을 출력하고, 그렇지 않으면 3배 값을 출력하는 프로그램을 작성하시오\n",
        "num = float(input(\"실수를 입력하세요: \"))\n",
        "\n",
        "if num >= 1 and num < 10:\n",
        "    print(num * 2)\n",
        "\n",
        "else:\n",
        "    print(num * 3)"
      ],
      "metadata": {
        "colab": {
          "base_uri": "https://localhost:8080/",
          "height": 375
        },
        "id": "uqIrIniufAzC",
        "outputId": "8eeab32e-1337-4216-dc0b-543fabc0e3b3"
      },
      "execution_count": null,
      "outputs": [
        {
          "output_type": "error",
          "ename": "KeyboardInterrupt",
          "evalue": "ignored",
          "traceback": [
            "\u001b[0;31m---------------------------------------------------------------------------\u001b[0m",
            "\u001b[0;31mKeyboardInterrupt\u001b[0m                         Traceback (most recent call last)",
            "\u001b[0;32m<ipython-input-1-1170953b1cb2>\u001b[0m in \u001b[0;36m<module>\u001b[0;34m\u001b[0m\n\u001b[1;32m      1\u001b[0m \u001b[0;31m# 입력된 실수가 [1~10) 사이이면 입력값의 2배 값을 출력하고, 그렇지 않으면 3배 값을 출력하는 프로그램을 작성하시오\u001b[0m\u001b[0;34m\u001b[0m\u001b[0;34m\u001b[0m\u001b[0m\n\u001b[0;32m----> 2\u001b[0;31m \u001b[0mnum\u001b[0m \u001b[0;34m=\u001b[0m \u001b[0mfloat\u001b[0m\u001b[0;34m(\u001b[0m\u001b[0minput\u001b[0m\u001b[0;34m(\u001b[0m\u001b[0;34m\"실수를 입력하세요: \"\u001b[0m\u001b[0;34m)\u001b[0m\u001b[0;34m)\u001b[0m\u001b[0;34m\u001b[0m\u001b[0;34m\u001b[0m\u001b[0m\n\u001b[0m\u001b[1;32m      3\u001b[0m \u001b[0;34m\u001b[0m\u001b[0m\n\u001b[1;32m      4\u001b[0m \u001b[0;32mif\u001b[0m \u001b[0mnum\u001b[0m \u001b[0;34m>=\u001b[0m \u001b[0;36m1\u001b[0m \u001b[0;32mand\u001b[0m \u001b[0mnum\u001b[0m \u001b[0;34m<\u001b[0m \u001b[0;36m10\u001b[0m\u001b[0;34m:\u001b[0m\u001b[0;34m\u001b[0m\u001b[0;34m\u001b[0m\u001b[0m\n\u001b[1;32m      5\u001b[0m     \u001b[0mprint\u001b[0m\u001b[0;34m(\u001b[0m\u001b[0mnum\u001b[0m \u001b[0;34m*\u001b[0m \u001b[0;36m2\u001b[0m\u001b[0;34m)\u001b[0m\u001b[0;34m\u001b[0m\u001b[0;34m\u001b[0m\u001b[0m\n",
            "\u001b[0;32m/usr/local/lib/python3.9/dist-packages/ipykernel/kernelbase.py\u001b[0m in \u001b[0;36mraw_input\u001b[0;34m(self, prompt)\u001b[0m\n\u001b[1;32m    858\u001b[0m                 \u001b[0;34m\"raw_input was called, but this frontend does not support input requests.\"\u001b[0m\u001b[0;34m\u001b[0m\u001b[0;34m\u001b[0m\u001b[0m\n\u001b[1;32m    859\u001b[0m             )\n\u001b[0;32m--> 860\u001b[0;31m         return self._input_request(str(prompt),\n\u001b[0m\u001b[1;32m    861\u001b[0m             \u001b[0mself\u001b[0m\u001b[0;34m.\u001b[0m\u001b[0m_parent_ident\u001b[0m\u001b[0;34m,\u001b[0m\u001b[0;34m\u001b[0m\u001b[0;34m\u001b[0m\u001b[0m\n\u001b[1;32m    862\u001b[0m             \u001b[0mself\u001b[0m\u001b[0;34m.\u001b[0m\u001b[0m_parent_header\u001b[0m\u001b[0;34m,\u001b[0m\u001b[0;34m\u001b[0m\u001b[0;34m\u001b[0m\u001b[0m\n",
            "\u001b[0;32m/usr/local/lib/python3.9/dist-packages/ipykernel/kernelbase.py\u001b[0m in \u001b[0;36m_input_request\u001b[0;34m(self, prompt, ident, parent, password)\u001b[0m\n\u001b[1;32m    902\u001b[0m             \u001b[0;32mexcept\u001b[0m \u001b[0mKeyboardInterrupt\u001b[0m\u001b[0;34m:\u001b[0m\u001b[0;34m\u001b[0m\u001b[0;34m\u001b[0m\u001b[0m\n\u001b[1;32m    903\u001b[0m                 \u001b[0;31m# re-raise KeyboardInterrupt, to truncate traceback\u001b[0m\u001b[0;34m\u001b[0m\u001b[0;34m\u001b[0m\u001b[0m\n\u001b[0;32m--> 904\u001b[0;31m                 \u001b[0;32mraise\u001b[0m \u001b[0mKeyboardInterrupt\u001b[0m\u001b[0;34m(\u001b[0m\u001b[0;34m\"Interrupted by user\"\u001b[0m\u001b[0;34m)\u001b[0m \u001b[0;32mfrom\u001b[0m \u001b[0;32mNone\u001b[0m\u001b[0;34m\u001b[0m\u001b[0;34m\u001b[0m\u001b[0m\n\u001b[0m\u001b[1;32m    905\u001b[0m             \u001b[0;32mexcept\u001b[0m \u001b[0mException\u001b[0m \u001b[0;32mas\u001b[0m \u001b[0me\u001b[0m\u001b[0;34m:\u001b[0m\u001b[0;34m\u001b[0m\u001b[0;34m\u001b[0m\u001b[0m\n\u001b[1;32m    906\u001b[0m                 \u001b[0mself\u001b[0m\u001b[0;34m.\u001b[0m\u001b[0mlog\u001b[0m\u001b[0;34m.\u001b[0m\u001b[0mwarning\u001b[0m\u001b[0;34m(\u001b[0m\u001b[0;34m\"Invalid Message:\"\u001b[0m\u001b[0;34m,\u001b[0m \u001b[0mexc_info\u001b[0m\u001b[0;34m=\u001b[0m\u001b[0;32mTrue\u001b[0m\u001b[0;34m)\u001b[0m\u001b[0;34m\u001b[0m\u001b[0;34m\u001b[0m\u001b[0m\n",
            "\u001b[0;31mKeyboardInterrupt\u001b[0m: Interrupted by user"
          ]
        }
      ]
    },
    {
      "cell_type": "code",
      "source": [
        "# 7번: 임의의 문자를 입력받아 그 문자가 대문자인지 아닌지를 판별하는 프로그램을 작성하시오\n",
        "ch = input(\"문자를 입력하세요: \")\n",
        "\n",
        "if ch.isupper():\n",
        "    print(\"대문자입니다.\")\n",
        "\n",
        "else:\n",
        "    print(\"대문자가 아닙니다.\")"
      ],
      "metadata": {
        "colab": {
          "base_uri": "https://localhost:8080/"
        },
        "id": "-qlWuqCdBgqb",
        "outputId": "4e52c30a-5dae-4a79-baf6-f2daeb6009d8"
      },
      "execution_count": null,
      "outputs": [
        {
          "output_type": "stream",
          "name": "stdout",
          "text": [
            "문자를 입력하세요: D\n",
            "대문자입니다.\n"
          ]
        }
      ]
    },
    {
      "cell_type": "code",
      "source": [
        "# 8번:임의의 문자 ch를 입력받아 그 문자가 'y' 또는 'Y' 또는 개행문자(‘\\n')이면 “OK\"를, 그렇지 않으면 ”NOK\"를 출력하시오.\n",
        "ch = input(\"문자를 입력하세요: \")\n",
        "\n",
        "if ch == 'y' or ch == 'Y' or ch == '\\n':\n",
        "    print(\"OK\")\n",
        "\n",
        "else:\n",
        "    print(\"NOK\")"
      ],
      "metadata": {
        "colab": {
          "base_uri": "https://localhost:8080/"
        },
        "id": "4izOEH8bCaZQ",
        "outputId": "26aaf8f7-ea10-44e8-a96d-40f8451fc642"
      },
      "execution_count": null,
      "outputs": [
        {
          "output_type": "stream",
          "name": "stdout",
          "text": [
            "문자를 입력하세요: new year\n",
            "NOK\n"
          ]
        }
      ]
    },
    {
      "cell_type": "code",
      "source": [
        "# 9번: 임의의 문자를 입력받아 대문자인지, 소문자인지, 기타의 문자인지를 판별하는 프로그램을 작성하시오.\n",
        "ch = input(\"문자를 입력하세요: \")\n",
        "\n",
        "if ch.isupper():\n",
        "    print(\"입력한 문자는 대문자입니다.\")\n",
        "\n",
        "elif ch.islower():\n",
        "    print(\"입력한 문자는 소문자입니다.\")\n",
        "\n",
        "else:\n",
        "    print(\"입력한 문자는 기타의 문자입니다.\")"
      ],
      "metadata": {
        "id": "x2B7wBR3DXlj"
      },
      "execution_count": null,
      "outputs": []
    },
    {
      "cell_type": "code",
      "source": [
        "# 10번: 임의의 정수 a를 입력받아 [1..10] 범위의 수가 아니면 “ERROR\"를 출력하고, 1~10 범위의 수이지만 3의 배수가 아니면 “OK\"를, 그렇지 않으면 ”NOK\"를 출력하시오.\n",
        "a = int(input(\"정수를 입력하세요: \"))\n",
        "\n",
        "if a < 1 or a > 10:\n",
        "    print(\"ERROR\")\n",
        "\n",
        "elif a % 3 != 0:\n",
        "    print(\"OK\")\n",
        "\n",
        "else:\n",
        "    print(\"NOK\")"
      ],
      "metadata": {
        "colab": {
          "base_uri": "https://localhost:8080/"
        },
        "id": "8m-W6kApDyUi",
        "outputId": "208f2fdb-e5d2-4040-e5f4-ab06ebfd434d"
      },
      "execution_count": null,
      "outputs": [
        {
          "output_type": "stream",
          "name": "stdout",
          "text": [
            "정수를 입력하세요: 6\n",
            "NOK\n"
          ]
        }
      ]
    },
    {
      "cell_type": "code",
      "source": [
        " # 11번: 임의의 양의 정수 n을 입력받아 1에서 n까지의 합을 구하시오.\n",
        "n = int(input(\"양의 정수를 입력하세요: \"))\n",
        "\n",
        "sum = 0\n",
        "\n",
        "for i in range(1, n+1):\n",
        "    sum += i\n",
        "\n",
        "print(\"1부터\", n, \"까지의 합은\", sum, \"입니다.\")"
      ],
      "metadata": {
        "colab": {
          "base_uri": "https://localhost:8080/"
        },
        "id": "uZNWNOQ0EepO",
        "outputId": "44a227d8-5654-4b92-d8cd-7bd21ea331bc"
      },
      "execution_count": null,
      "outputs": [
        {
          "output_type": "stream",
          "name": "stdout",
          "text": [
            "양의 정수를 입력하세요: 6\n",
            "1부터 6 까지의 합은 21 입니다.\n"
          ]
        }
      ]
    },
    {
      "cell_type": "code",
      "source": [
        "# 12번: 임의의 양의 정수 n을 입력받아 n!을 구하시오.\n",
        "\n",
        "n = int(input(\"양의 정수를 입력하세요: \"))\n",
        "\n",
        "factorial = 1\n",
        "\n",
        "for i in range(1, n+1):\n",
        "    factorial *= i\n",
        "\n",
        "print(n, \"의 팩토리얼은\", factorial, \"이다.\")"
      ],
      "metadata": {
        "colab": {
          "base_uri": "https://localhost:8080/"
        },
        "id": "4jyPQOgBFPhJ",
        "outputId": "c166cb37-37b4-4d5d-8528-95e870828e35"
      },
      "execution_count": null,
      "outputs": [
        {
          "output_type": "stream",
          "name": "stdout",
          "text": [
            "양의 정수를 입력하세요: 3\n",
            "3 의 팩토리얼은 6 이다.\n"
          ]
        }
      ]
    },
    {
      "cell_type": "code",
      "source": [
        "# 13번: 두 정수 a, b를 입력받아 [a, b] 사이의 홀수의 개수와 합을 구하는 프로그램을 작성하시오.\n",
        "a = int(input(\"정수 a를 입력하세요: \"))\n",
        "\n",
        "b = int(input(\"정수 b를 입력하세요: \"))\n",
        "\n",
        "count = 0\n",
        "sum = 0\n",
        "\n",
        "for i in range(a, b+1):\n",
        "    if i % 2 != 0:\n",
        "        count += 1\n",
        "        sum += i\n",
        "\n",
        "print(a, \"부터\", b, \"까지 홀수의 개수는\", count, \"개이며, 합은\", sum, \"입니다.\")"
      ],
      "metadata": {
        "colab": {
          "base_uri": "https://localhost:8080/"
        },
        "id": "qX03jagaH5tc",
        "outputId": "25d800a9-ec6d-453f-a78e-f16f6f92c7e0"
      },
      "execution_count": null,
      "outputs": [
        {
          "output_type": "stream",
          "name": "stdout",
          "text": [
            "정수 a를 입력하세요: 10\n",
            "정수 b를 입력하세요: 15\n",
            "10 부터 15 까지 홀수의 개수는 3 개이며, 합은 39 입니다.\n"
          ]
        }
      ]
    },
    {
      "cell_type": "code",
      "source": [
        "# 14번: 100 이하의 자연수중 3의 배수이거나 5의 배수이면서 15의 배수가 아닌 수들의 합을 구하시오.\n",
        "sum = 0\n",
        "\n",
        "for i in range(1, 101):\n",
        "    if i % 3 == 0 or i % 5 == 0:\n",
        "        if i % 15 != 0:\n",
        "            sum += i\n",
        "\n",
        "print(sum)"
      ],
      "metadata": {
        "colab": {
          "base_uri": "https://localhost:8080/"
        },
        "id": "NBqYncU7JbNz",
        "outputId": "5f51610e-5c4c-4dbc-ee2b-833dce9eb9f7"
      },
      "execution_count": null,
      "outputs": [
        {
          "output_type": "stream",
          "name": "stdout",
          "text": [
            "2103\n"
          ]
        }
      ]
    },
    {
      "cell_type": "code",
      "source": [
        "# 15번: 100 이하의 임의의 양의 정수 n을 입력받아 1~100 사이에서 n의 배수와 n의 배수의 개수를 출력하시오.\n",
        "n = int(input(\"100 이하의 양의 정수를 입력하세요: \"))\n",
        "count = 0\n",
        "\n",
        "for i in range(1, 101):\n",
        "    if i % n == 0:\n",
        "        print(i, end=\" \")\n",
        "        count += 1\n",
        "\n",
        "print(\"\\n1~100 사이에서\", n, \"의 배수의 개수는\", count, \"입니다.\")"
      ],
      "metadata": {
        "colab": {
          "base_uri": "https://localhost:8080/"
        },
        "id": "STq1q011M2P7",
        "outputId": "6796324c-96b4-4261-b2da-297f0c43f5c1"
      },
      "execution_count": null,
      "outputs": [
        {
          "output_type": "stream",
          "name": "stdout",
          "text": [
            "100 이하의 양의 정수를 입력하세요: 10\n",
            "10 20 30 40 50 60 70 80 90 100 \n",
            "1~100 사이에서 10 의 배수의 개수는 10 입니다.\n"
          ]
        }
      ]
    },
    {
      "cell_type": "code",
      "source": [
        "# 16번: 1+2-3+4+5-6+7+8-9+...-99+100=?\n",
        "total = 0\n",
        "sign = 1\n",
        "\n",
        "for i in range(1, 101):\n",
        "    total += i * sign\n",
        "    sign = -sign\n",
        "\n",
        "print(total)"
      ],
      "metadata": {
        "colab": {
          "base_uri": "https://localhost:8080/"
        },
        "id": "cTL32JnRPxa4",
        "outputId": "c8cfb758-ab69-4745-ae7f-8b7df37d4d35"
      },
      "execution_count": null,
      "outputs": [
        {
          "output_type": "stream",
          "name": "stdout",
          "text": [
            "-50\n"
          ]
        }
      ]
    },
    {
      "cell_type": "code",
      "source": [
        "# 17번: 1+(1+2)+(1+2+3)+...+(1+2+3+...+100)=?\n",
        "sum = 1  \n",
        "temp_sum = 0   \n",
        "for i in range(2, 101):  \n",
        "    temp_sum += i-1  \n",
        "    sum += i + temp_sum  \n",
        "\n",
        "print(sum)  "
      ],
      "metadata": {
        "id": "7HSYdc8NQtUB",
        "colab": {
          "base_uri": "https://localhost:8080/"
        },
        "outputId": "e22b92b7-e181-4a67-8601-24455ed9054c"
      },
      "execution_count": null,
      "outputs": [
        {
          "output_type": "stream",
          "name": "stdout",
          "text": [
            "171700\n"
          ]
        }
      ]
    },
    {
      "cell_type": "code",
      "source": [
        "# 18번:"
      ],
      "metadata": {
        "id": "cr_NMG42tqh2"
      },
      "execution_count": null,
      "outputs": []
    },
    {
      "cell_type": "code",
      "source": [
        " # 19번: 하나의 점수를 입력받아 출력하시오. 단, 입력된 점수가 [0,100] 범위를 벗어나면 재입력 받으시오.\n",
        " while True:  \n",
        "    score = int(input(\"점수를 입력하세요: \"))\n",
        "    if score < 0 or score > 100:  \n",
        "        print(\"잘못 된 점수입니다 다시 입력하세요.\")\n",
        "    else:  \n",
        "        break  \n",
        "\n",
        "print(f\"점수는 {score}\")"
      ],
      "metadata": {
        "colab": {
          "base_uri": "https://localhost:8080/"
        },
        "id": "L8pDN_Getr_b",
        "outputId": "fb4acb92-b2ee-4777-dd3b-34755b9d865c"
      },
      "execution_count": null,
      "outputs": [
        {
          "output_type": "stream",
          "name": "stdout",
          "text": [
            "점수를 입력하세요: 423\n",
            "잘못 된 점수입니다 다시 입력하세요.\n",
            "점수를 입력하세요: 43\n",
            "점수는 43\n"
          ]
        }
      ]
    },
    {
      "cell_type": "code",
      "source": [
        " # 20번: 임의의 정수를 하나 입력받아 그 수가 소수인지를 판별하는 프로그램을 작성하시오. 소수란 1과 자기 자신 이외에는 나누어지지 않는 수를 말한다.\n",
        "num = int(input(\"정수를 입력하세요: \"))\n",
        "\n",
        "\n",
        "if num > 1:\n",
        "    for i in range(2, num):\n",
        "        if num % i == 0:\n",
        "            print(f\"{num}은(는) 소수가 아닙니다.\")\n",
        "            break\n",
        "    else:\n",
        "        print(f\"{num}은(는) 소수입니다.\")\n",
        "else:\n",
        "    print(f\"{num}은(는) 소수가 아닙니다.\")"
      ],
      "metadata": {
        "colab": {
          "base_uri": "https://localhost:8080/"
        },
        "id": "TZ6myhlhud-7",
        "outputId": "1bd522c1-b99d-4118-9015-c82a84ddf635"
      },
      "execution_count": null,
      "outputs": [
        {
          "output_type": "stream",
          "name": "stdout",
          "text": [
            "정수를 입력하세요: 5\n",
            "5은(는) 소수입니다.\n"
          ]
        }
      ]
    }
  ]
}